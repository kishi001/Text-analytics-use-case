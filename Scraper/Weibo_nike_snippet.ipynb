{
 "cells": [
  {
   "cell_type": "code",
   "execution_count": 14,
   "metadata": {
    "collapsed": true
   },
   "outputs": [],
   "source": [
    "import json\n"
   ]
  },
  {
   "cell_type": "code",
   "execution_count": 20,
   "metadata": {},
   "outputs": [],
   "source": [
    "data = [\n",
    "  {\n",
    "    \"Date\": \"10月15日 18:04\",\n",
    "    \"Post\": \"38次巅峰对决，今日上海再下一城。费德勒，求胜之志永不停息。 ​​​​\",\n",
    "    \"Likes\": \"994\"\n",
    "  },\n",
    "  {\n",
    "    \"Date\": \"9月28日 20:00\",\n",
    "    \"Post\": \"无论面对多么强大的对手，多难的挑战当你踏上赛场的那一刻只应心怀一个信念：忘记输与赢，全身心应战。21连胜都是过去，10月7日，下一场比赛，下一个对手，接招。超蝇量级拳击运动员 - @神奇小子曹星如 搏到尽我话事 #JustDoIt# ...展开全文c\",\n",
    "    \"Likes\": \"827\"\n",
    "  },\n",
    "  {\n",
    "    \"Date\": \"9月11日 08:45\",\n",
    "    \"Post\": \"让你心服口服再臣服3 次纽约称霸，16 个大满贯在手，依然有胜必争。#JustDoIt# ​​​​\",\n",
    "    \"Likes\": \"795\"\n",
    "  },\n",
    "  {\n",
    "    \"Date\": \"11月6日 20:00\",\n",
    "    \"Post\": \"这座城市，生来只为更快，到这里来，就没有慢慢来。不甘落伍？先过招上海速度先锋：O网页链接，再来快过整个上海。#有种快叫上海# L耐克NIKE的秒拍视频 ​​​​\",\n",
    "    \"Likes\": \"417\"\n",
    "  },\n",
    "  {\n",
    "    \"Date\": \"10月20日 17:30\",\n",
    "    \"Post\": \"不管场上还是场下，都要赢得出彩、型得出众，想成为焦点所在，看你出手有多快！11.11 就这么好胜#祝你双11快乐# 点击前往NIKE天猫官方旗舰店ONIKE官方旗舰店 ​​​​\",\n",
    "    \"Likes\": \"323\"\n",
    "  },\n",
    "  {\n",
    "    \"Date\": \"10月15日 16:22\",\n",
    "    \"Post\": \"定义成功的不仅仅是冠军，而是那颗对网球不变的初心。@MariaSharapova ​​​​\",\n",
    "    \"Likes\": \"714\"\n",
    "  },\n",
    "  {\n",
    "    \"Date\": \"11月12日 08:00\",\n",
    "    \"Post\": \"今天，上海全城变为跑场。38000名跑者场内竞速，场外则由你主宰。点击如下图片，和沪上高手过招。马上立刻，比快更快。#有种快叫上海# O敢快过上海？ ​​​​\",\n",
    "    \"Likes\": \"218\"\n",
    "  },\n",
    "  {\n",
    "    \"Date\": \"11月2日 21:00\",\n",
    "    \"Post\": \"是什么给上海按了快进？11月6日，全城加速，让你见识什么叫#有种快叫上海# L耐克NIKE的秒拍视频 ​​​​\",\n",
    "    \"Likes\": \"242\"\n",
    "  }\n",
    "]"
   ]
  },
  {
   "cell_type": "code",
   "execution_count": 21,
   "metadata": {
    "collapsed": true
   },
   "outputs": [],
   "source": [
    "import pandas as pd\n",
    "df = pd.DataFrame(data)"
   ]
  },
  {
   "cell_type": "code",
   "execution_count": 22,
   "metadata": {},
   "outputs": [
    {
     "data": {
      "text/html": [
       "<div>\n",
       "<style>\n",
       "    .dataframe thead tr:only-child th {\n",
       "        text-align: right;\n",
       "    }\n",
       "\n",
       "    .dataframe thead th {\n",
       "        text-align: left;\n",
       "    }\n",
       "\n",
       "    .dataframe tbody tr th {\n",
       "        vertical-align: top;\n",
       "    }\n",
       "</style>\n",
       "<table border=\"1\" class=\"dataframe\">\n",
       "  <thead>\n",
       "    <tr style=\"text-align: right;\">\n",
       "      <th></th>\n",
       "      <th>Date</th>\n",
       "      <th>Likes</th>\n",
       "      <th>Post</th>\n",
       "    </tr>\n",
       "  </thead>\n",
       "  <tbody>\n",
       "    <tr>\n",
       "      <th>0</th>\n",
       "      <td>10月15日 18:04</td>\n",
       "      <td>994</td>\n",
       "      <td>38次巅峰对决，今日上海再下一城。费德勒，求胜之志永不停息。 ​​​​</td>\n",
       "    </tr>\n",
       "    <tr>\n",
       "      <th>1</th>\n",
       "      <td>9月28日 20:00</td>\n",
       "      <td>827</td>\n",
       "      <td>无论面对多么强大的对手，多难的挑战当你踏上赛场的那一刻只应心怀一个信念：忘记输与赢，全身心应...</td>\n",
       "    </tr>\n",
       "    <tr>\n",
       "      <th>2</th>\n",
       "      <td>9月11日 08:45</td>\n",
       "      <td>795</td>\n",
       "      <td>让你心服口服再臣服3 次纽约称霸，16 个大满贯在手，依然有胜必争。#JustDoIt# ​​​​</td>\n",
       "    </tr>\n",
       "    <tr>\n",
       "      <th>3</th>\n",
       "      <td>11月6日 20:00</td>\n",
       "      <td>417</td>\n",
       "      <td>这座城市，生来只为更快，到这里来，就没有慢慢来。不甘落伍？先过招上海速度先锋：O网页链接，再...</td>\n",
       "    </tr>\n",
       "    <tr>\n",
       "      <th>4</th>\n",
       "      <td>10月20日 17:30</td>\n",
       "      <td>323</td>\n",
       "      <td>不管场上还是场下，都要赢得出彩、型得出众，想成为焦点所在，看你出手有多快！11.11 就这么...</td>\n",
       "    </tr>\n",
       "    <tr>\n",
       "      <th>5</th>\n",
       "      <td>10月15日 16:22</td>\n",
       "      <td>714</td>\n",
       "      <td>定义成功的不仅仅是冠军，而是那颗对网球不变的初心。@MariaSharapova ​​​​</td>\n",
       "    </tr>\n",
       "    <tr>\n",
       "      <th>6</th>\n",
       "      <td>11月12日 08:00</td>\n",
       "      <td>218</td>\n",
       "      <td>今天，上海全城变为跑场。38000名跑者场内竞速，场外则由你主宰。点击如下图片，和沪上高手过...</td>\n",
       "    </tr>\n",
       "    <tr>\n",
       "      <th>7</th>\n",
       "      <td>11月2日 21:00</td>\n",
       "      <td>242</td>\n",
       "      <td>是什么给上海按了快进？11月6日，全城加速，让你见识什么叫#有种快叫上海# L耐克NIKE的...</td>\n",
       "    </tr>\n",
       "  </tbody>\n",
       "</table>\n",
       "</div>"
      ],
      "text/plain": [
       "           Date Likes                                               Post\n",
       "0  10月15日 18:04   994                38次巅峰对决，今日上海再下一城。费德勒，求胜之志永不停息。 ​​​​\n",
       "1   9月28日 20:00   827  无论面对多么强大的对手，多难的挑战当你踏上赛场的那一刻只应心怀一个信念：忘记输与赢，全身心应...\n",
       "2   9月11日 08:45   795  让你心服口服再臣服3 次纽约称霸，16 个大满贯在手，依然有胜必争。#JustDoIt# ​​​​\n",
       "3   11月6日 20:00   417  这座城市，生来只为更快，到这里来，就没有慢慢来。不甘落伍？先过招上海速度先锋：O网页链接，再...\n",
       "4  10月20日 17:30   323  不管场上还是场下，都要赢得出彩、型得出众，想成为焦点所在，看你出手有多快！11.11 就这么...\n",
       "5  10月15日 16:22   714      定义成功的不仅仅是冠军，而是那颗对网球不变的初心。@MariaSharapova ​​​​\n",
       "6  11月12日 08:00   218  今天，上海全城变为跑场。38000名跑者场内竞速，场外则由你主宰。点击如下图片，和沪上高手过...\n",
       "7   11月2日 21:00   242  是什么给上海按了快进？11月6日，全城加速，让你见识什么叫#有种快叫上海# L耐克NIKE的..."
      ]
     },
     "execution_count": 22,
     "metadata": {},
     "output_type": "execute_result"
    }
   ],
   "source": [
    "df"
   ]
  },
  {
   "cell_type": "code",
   "execution_count": 49,
   "metadata": {},
   "outputs": [],
   "source": [
    "df.to_excel('weibonike.xlsx')"
   ]
  },
  {
   "cell_type": "code",
   "execution_count": 50,
   "metadata": {},
   "outputs": [
    {
     "data": {
      "text/html": [
       "<div>\n",
       "<style>\n",
       "    .dataframe thead tr:only-child th {\n",
       "        text-align: right;\n",
       "    }\n",
       "\n",
       "    .dataframe thead th {\n",
       "        text-align: left;\n",
       "    }\n",
       "\n",
       "    .dataframe tbody tr th {\n",
       "        vertical-align: top;\n",
       "    }\n",
       "</style>\n",
       "<table border=\"1\" class=\"dataframe\">\n",
       "  <thead>\n",
       "    <tr style=\"text-align: right;\">\n",
       "      <th></th>\n",
       "      <th>Date</th>\n",
       "      <th>Likes</th>\n",
       "      <th>Post</th>\n",
       "    </tr>\n",
       "  </thead>\n",
       "  <tbody>\n",
       "    <tr>\n",
       "      <th>0</th>\n",
       "      <td>10月15日 18:04</td>\n",
       "      <td>994</td>\n",
       "      <td>38次巅峰对决，今日上海再下一城。费德勒，求胜之志永不停息。 ​​​​</td>\n",
       "    </tr>\n",
       "    <tr>\n",
       "      <th>1</th>\n",
       "      <td>9月28日 20:00</td>\n",
       "      <td>827</td>\n",
       "      <td>无论面对多么强大的对手，多难的挑战当你踏上赛场的那一刻只应心怀一个信念：忘记输与赢，全身心应...</td>\n",
       "    </tr>\n",
       "    <tr>\n",
       "      <th>2</th>\n",
       "      <td>9月11日 08:45</td>\n",
       "      <td>795</td>\n",
       "      <td>让你心服口服再臣服3 次纽约称霸，16 个大满贯在手，依然有胜必争。#JustDoIt# ​​​​</td>\n",
       "    </tr>\n",
       "    <tr>\n",
       "      <th>3</th>\n",
       "      <td>11月6日 20:00</td>\n",
       "      <td>417</td>\n",
       "      <td>这座城市，生来只为更快，到这里来，就没有慢慢来。不甘落伍？先过招上海速度先锋：O网页链接，再...</td>\n",
       "    </tr>\n",
       "    <tr>\n",
       "      <th>4</th>\n",
       "      <td>10月20日 17:30</td>\n",
       "      <td>323</td>\n",
       "      <td>不管场上还是场下，都要赢得出彩、型得出众，想成为焦点所在，看你出手有多快！11.11 就这么...</td>\n",
       "    </tr>\n",
       "    <tr>\n",
       "      <th>5</th>\n",
       "      <td>10月15日 16:22</td>\n",
       "      <td>714</td>\n",
       "      <td>定义成功的不仅仅是冠军，而是那颗对网球不变的初心。@MariaSharapova ​​​​</td>\n",
       "    </tr>\n",
       "    <tr>\n",
       "      <th>6</th>\n",
       "      <td>11月12日 08:00</td>\n",
       "      <td>218</td>\n",
       "      <td>今天，上海全城变为跑场。38000名跑者场内竞速，场外则由你主宰。点击如下图片，和沪上高手过...</td>\n",
       "    </tr>\n",
       "    <tr>\n",
       "      <th>7</th>\n",
       "      <td>11月2日 21:00</td>\n",
       "      <td>242</td>\n",
       "      <td>是什么给上海按了快进？11月6日，全城加速，让你见识什么叫#有种快叫上海# L耐克NIKE的...</td>\n",
       "    </tr>\n",
       "  </tbody>\n",
       "</table>\n",
       "</div>"
      ],
      "text/plain": [
       "           Date  Likes                                               Post\n",
       "0  10月15日 18:04    994                38次巅峰对决，今日上海再下一城。费德勒，求胜之志永不停息。 ​​​​\n",
       "1   9月28日 20:00    827  无论面对多么强大的对手，多难的挑战当你踏上赛场的那一刻只应心怀一个信念：忘记输与赢，全身心应...\n",
       "2   9月11日 08:45    795  让你心服口服再臣服3 次纽约称霸，16 个大满贯在手，依然有胜必争。#JustDoIt# ​​​​\n",
       "3   11月6日 20:00    417  这座城市，生来只为更快，到这里来，就没有慢慢来。不甘落伍？先过招上海速度先锋：O网页链接，再...\n",
       "4  10月20日 17:30    323  不管场上还是场下，都要赢得出彩、型得出众，想成为焦点所在，看你出手有多快！11.11 就这么...\n",
       "5  10月15日 16:22    714      定义成功的不仅仅是冠军，而是那颗对网球不变的初心。@MariaSharapova ​​​​\n",
       "6  11月12日 08:00    218  今天，上海全城变为跑场。38000名跑者场内竞速，场外则由你主宰。点击如下图片，和沪上高手过...\n",
       "7   11月2日 21:00    242  是什么给上海按了快进？11月6日，全城加速，让你见识什么叫#有种快叫上海# L耐克NIKE的..."
      ]
     },
     "execution_count": 50,
     "metadata": {},
     "output_type": "execute_result"
    }
   ],
   "source": [
    "pd.read_excel('weibonike.xlsx')"
   ]
  },
  {
   "cell_type": "code",
   "execution_count": null,
   "metadata": {},
   "outputs": [],
   "source": []
  },
  {
   "cell_type": "code",
   "execution_count": null,
   "metadata": {
    "collapsed": true
   },
   "outputs": [],
   "source": []
  }
 ],
 "metadata": {
  "kernelspec": {
   "display_name": "Python 3",
   "language": "python",
   "name": "python3"
  },
  "language_info": {
   "codemirror_mode": {
    "name": "ipython",
    "version": 3
   },
   "file_extension": ".py",
   "mimetype": "text/x-python",
   "name": "python",
   "nbconvert_exporter": "python",
   "pygments_lexer": "ipython3",
   "version": "3.6.2"
  }
 },
 "nbformat": 4,
 "nbformat_minor": 2
}
